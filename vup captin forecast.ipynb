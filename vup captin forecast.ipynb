{
 "cells": [
  {
   "cell_type": "markdown",
   "id": "a5d0c3ba",
   "metadata": {},
   "source": [
    "### Topic 1 一个广泛适用的舰长数量预测模型\n",
    "\n",
    "众所周知，v圈观众对于虚拟主播的“大活”，例如生日会或者周年纪念等活动的最终舰长数有着非常特别的期待。在各种论坛或者社群里，讨论或预测某某主播的马上即将来临的生日会最终舰长数量始终是一个热门的话题。同样，对于主播或者运营来说，如果可以通过较好的预测舰长数量，则可以合理的设置大航海礼物的等级，达到冲舰的目的。\n",
    "\n",
    "OK，进入正题。"
   ]
  },
  {
   "cell_type": "markdown",
   "id": "edf3ff66",
   "metadata": {},
   "source": [
    "在选取输入变量过程中，首先考虑到了\n",
    "1.主播的固定特征\n",
    "性别：男v/女v，男1女0。\n",
    "是否企业势团体：1/0。\n",
    "是否为社团成员：1/0.  ###这里使用了one-hot编码，以上两者皆为0则表明为个人势\n",
    "2.主播在近期表现相关特征\n",
    "之前近十场日常直播相关数据平均值（场均营收，场均高能，场均付费观众，场均活跃观众，弹幕量）\n",
    "预告动态（评论数）\n",
    "前一天的粉丝数\n",
    "3.活动相关特征\n",
    "大航海礼物预估价值   ###ps由于礼物分为舰长、提督、总督三种类型，所以采用逆向加权方式计算整体价值，见附1\n",
    "直播预告预约人数\n",
    "直播活动所在月份\n",
    "是否生日会：1/0"
   ]
  },
  {
   "cell_type": "code",
   "execution_count": 10,
   "id": "eb1c731b",
   "metadata": {},
   "outputs": [
    {
     "name": "stdout",
     "output_type": "stream",
     "text": [
      "逆向加权权重占比: [0.92939415 0.06419239 0.00641346]\n"
     ]
    }
   ],
   "source": [
    "### 附1:大航海逆向加权占比\n",
    "\n",
    "import numpy as np\n",
    "\n",
    "prices = [138, 1998, 19998]\n",
    "\n",
    "# 方法 1：逆向加权\n",
    "weights_inverse = 1 / np.array(prices)\n",
    "\n",
    "# 计算每个权重在总权重中的占比\n",
    "total_weight = np.sum(weights_inverse)\n",
    "proportions_inverse = weights_inverse / total_weight\n",
    "\n",
    "print(\"逆向加权权重占比:\", proportions_inverse)\n",
    "\n",
    "### output：逆向加权权重占比: [0.92939415 0.06419239 0.00641346]"
   ]
  },
  {
   "cell_type": "markdown",
   "id": "7d1db984",
   "metadata": {},
   "source": [
    "以上的输入变量已经足够多，避免模型过拟合，样本量也应该保证足够。\n",
    "采用一整年的数据，时间为2022/12/1 - 2023/11/30.保证每个主播基本上有且只有一个样本。\n",
    "数据收集比较繁琐QWQ，为自己加油。"
   ]
  },
  {
   "cell_type": "code",
   "execution_count": null,
   "id": "4a265e38",
   "metadata": {},
   "outputs": [],
   "source": []
  }
 ],
 "metadata": {
  "kernelspec": {
   "display_name": "Python 3 (ipykernel)",
   "language": "python",
   "name": "python3"
  },
  "language_info": {
   "codemirror_mode": {
    "name": "ipython",
    "version": 3
   },
   "file_extension": ".py",
   "mimetype": "text/x-python",
   "name": "python",
   "nbconvert_exporter": "python",
   "pygments_lexer": "ipython3",
   "version": "3.11.5"
  }
 },
 "nbformat": 4,
 "nbformat_minor": 5
}
